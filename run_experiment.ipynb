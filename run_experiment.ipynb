{
 "cells": [
  {
   "cell_type": "code",
   "execution_count": 6,
   "metadata": {},
   "outputs": [],
   "source": [
    "from experiment import PortfolioModelingExperiment, TrainingConfig\n",
    "from model import make_model\n",
    "import pandas as pd"
   ]
  },
  {
   "cell_type": "markdown",
   "metadata": {},
   "source": [
    "#### Pull Input Data"
   ]
  },
  {
   "cell_type": "code",
   "execution_count": 7,
   "metadata": {},
   "outputs": [],
   "source": [
    "return_df = pd.read_parquet(\"return_df.parquet\")\n",
    "start = 2000\n",
    "cutoff = 500\n",
    "training_df = return_df[start:-cutoff]\n",
    "validation_df = return_df[-cutoff:]\n",
    "\n",
    "n_assets = len(return_df.columns)"
   ]
  },
  {
   "cell_type": "markdown",
   "metadata": {},
   "source": [
    "#### Create Training Configuration"
   ]
  },
  {
   "cell_type": "code",
   "execution_count": null,
   "metadata": {},
   "outputs": [],
   "source": [
    "# example tranining config\n",
    "\n",
    "training_config = TrainingConfig(\n",
    "    batch_size=32,\n",
    "    n_assets=n_assets,\n",
    "    tau=41,\n",
    "    h=4,\n",
    "    N=4,\n",
    "    d_model=128,\n",
    "    dropout=0.1,\n",
    "    conv_kernel_size=3,\n",
    "    padding=1,\n",
    "    learning_rate=0.05,\n",
    "    epochs=200,\n",
    "    optimizer=\"SGD\",\n",
    "    seed=2024,\n",
    "    data_type=\"etf\",\n",
    "    model_type=\"lstm\",\n",
    ")"
   ]
  },
  {
   "cell_type": "code",
   "execution_count": null,
   "metadata": {},
   "outputs": [],
   "source": [
    "model = training_config.make_model()\n",
    "\n",
    "experiment = PortfolioModelingExperiment(\n",
    "    model=model,\n",
    "    training_config=training_config,\n",
    "    training_data=training_df,\n",
    "    validation_data=validation_df,\n",
    "    early_stopping_patience=10,\n",
    ")"
   ]
  },
  {
   "cell_type": "code",
   "execution_count": null,
   "metadata": {},
   "outputs": [],
   "source": [
    "print(f\"experiment hash: {experiment.hash_dir}\")"
   ]
  },
  {
   "cell_type": "markdown",
   "metadata": {},
   "source": [
    "#### Run the Experiment"
   ]
  },
  {
   "cell_type": "code",
   "execution_count": null,
   "metadata": {},
   "outputs": [],
   "source": [
    "experiment.run(validate=True)"
   ]
  },
  {
   "cell_type": "markdown",
   "metadata": {},
   "source": [
    "### Iterate through hyperparameters"
   ]
  },
  {
   "cell_type": "code",
   "execution_count": null,
   "metadata": {},
   "outputs": [],
   "source": [
    "import itertools as it\n",
    "\n",
    "batch_sizes = [32, 64, 128, 256]\n",
    "learning_rates = [0.05, 0.01, 0.005]\n",
    "taus = [141, 121, 101, 81, 61, 41]\n",
    "d_models = [32, 64, 128, 256]\n",
    "paddings = [\"same\"]\n",
    "conv_kernel_sizes = [30, 20, 10, 5, 3]\n",
    "optimizers = [\"SGD\"]\n",
    "\n",
    "configurations = list(\n",
    "    it.product(\n",
    "        batch_sizes,\n",
    "        learning_rates,\n",
    "        taus,\n",
    "        d_models,\n",
    "        paddings,\n",
    "        conv_kernel_sizes,\n",
    "        optimizers,\n",
    "    )\n",
    ")\n",
    "\n",
    "for (\n",
    "    batch_size,\n",
    "    learning_rate,\n",
    "    tau,\n",
    "    d_model,\n",
    "    padding,\n",
    "    conv_kernel_size,\n",
    "    optimizer,\n",
    ") in configurations:\n",
    "    training_config = TrainingConfig(\n",
    "        batch_size=batch_size,\n",
    "        n_assets=n_assets,\n",
    "        tau=tau,\n",
    "        h=4,\n",
    "        N=4,\n",
    "        d_model=d_model,\n",
    "        dropout=0.1,\n",
    "        conv_kernel_size=conv_kernel_size,\n",
    "        padding=padding,\n",
    "        learning_rate=learning_rate,\n",
    "        epochs=100,\n",
    "        optimizer=optimizer,\n",
    "        seed=2024,\n",
    "        data_type=\"etf\",\n",
    "        model_type=\"transformer\",\n",
    "    )\n",
    "    model = training_config.make_model()\n",
    "    experiment = PortfolioModelingExperiment(\n",
    "        model=model,\n",
    "        training_config=training_config,\n",
    "        training_data=training_df,\n",
    "        validation_data=validation_df,\n",
    "        early_stopping_patience=20,\n",
    "    )\n",
    "    print(experiment.hash_dir)\n",
    "    experiment.run(validate=True)"
   ]
  },
  {
   "cell_type": "code",
   "execution_count": null,
   "metadata": {},
   "outputs": [],
   "source": []
  }
 ],
 "metadata": {
  "kernelspec": {
   "display_name": "mfp",
   "language": "python",
   "name": "python3"
  },
  "language_info": {
   "codemirror_mode": {
    "name": "ipython",
    "version": 3
   },
   "file_extension": ".py",
   "mimetype": "text/x-python",
   "name": "python",
   "nbconvert_exporter": "python",
   "pygments_lexer": "ipython3",
   "version": "3.10.11"
  }
 },
 "nbformat": 4,
 "nbformat_minor": 2
}
